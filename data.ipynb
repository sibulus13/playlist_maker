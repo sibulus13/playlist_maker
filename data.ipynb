{
 "cells": [
  {
   "cell_type": "code",
   "execution_count": 2,
   "metadata": {},
   "outputs": [
    {
     "name": "stdout",
     "output_type": "stream",
     "text": [
      "Collecting spotipy\n",
      "  Downloading spotipy-2.23.0-py3-none-any.whl (29 kB)\n",
      "Requirement already satisfied: requests>=2.25.0 in c:\\users\\michael\\appdata\\local\\programs\\python\\python39\\lib\\site-packages (from spotipy) (2.31.0)\n",
      "Collecting redis>=3.5.3\n",
      "  Downloading redis-5.0.1-py3-none-any.whl (250 kB)\n",
      "     ------------------------------------- 250.3/250.3 KB 15.0 MB/s eta 0:00:00\n",
      "Requirement already satisfied: urllib3>=1.26.0 in c:\\users\\michael\\appdata\\local\\programs\\python\\python39\\lib\\site-packages (from spotipy) (2.0.3)\n",
      "Requirement already satisfied: six>=1.15.0 in c:\\users\\michael\\appdata\\roaming\\python\\python39\\site-packages (from spotipy) (1.16.0)\n",
      "Requirement already satisfied: async-timeout>=4.0.2 in c:\\users\\michael\\appdata\\local\\programs\\python\\python39\\lib\\site-packages (from redis>=3.5.3->spotipy) (4.0.2)\n",
      "Requirement already satisfied: idna<4,>=2.5 in c:\\users\\michael\\appdata\\local\\programs\\python\\python39\\lib\\site-packages (from requests>=2.25.0->spotipy) (3.4)\n",
      "Requirement already satisfied: charset-normalizer<4,>=2 in c:\\users\\michael\\appdata\\local\\programs\\python\\python39\\lib\\site-packages (from requests>=2.25.0->spotipy) (3.1.0)\n",
      "Requirement already satisfied: certifi>=2017.4.17 in c:\\users\\michael\\appdata\\local\\programs\\python\\python39\\lib\\site-packages (from requests>=2.25.0->spotipy) (2023.5.7)\n",
      "Installing collected packages: redis, spotipy\n",
      "Successfully installed redis-5.0.1 spotipy-2.23.0\n",
      "Note: you may need to restart the kernel to use updated packages.\n",
      "https://example.com/callback/\n"
     ]
    },
    {
     "name": "stderr",
     "output_type": "stream",
     "text": [
      "WARNING: You are using pip version 22.0.4; however, version 23.3.1 is available.\n",
      "You should consider upgrading via the 'c:\\Users\\Michael\\AppData\\Local\\Programs\\Python\\Python39\\python.exe -m pip install --upgrade pip' command.\n"
     ]
    },
    {
     "name": "stdout",
     "output_type": "stream",
     "text": [
      "Give Up On You - hayve\n",
      "2RwxKOqGh9IEiBpwVLgkQT\n"
     ]
    }
   ],
   "source": [
    "%pip install spotipy\n",
    "from dotenv import load_dotenv\n",
    "import os\n",
    "load_dotenv()\n",
    "\n",
    "SPOTIPY_CLIENT_ID = os.getenv(\"SPOTIPY_CLIENT_ID\")\n",
    "SPOTIPY_CLIENT_SECRET = os.environ.get(\"SPOTIPY_CLIENT_SECRET\")\n",
    "SPOTIPY_REDIRECT_URI = os.environ.get(\"SPOTIPY_REDIRECT_URI\")\n",
    "\n",
    "import sys\n",
    "import spotipy\n",
    "import spotipy.util as util\n",
    "\n",
    "scope = 'user-library-read'\n",
    "username = 'hotshot9258'\n",
    "# if len(sys.argv) > 1:\n",
    "#     username = sys.argv[1]\n",
    "# else:\n",
    "#     print(\"Usage: %s username\" % (sys.argv[0],))\n",
    "#     sys.exit()\n",
    "print(SPOTIPY_REDIRECT_URI)\n",
    "token = util.prompt_for_user_token(username, scope, client_id=SPOTIPY_CLIENT_ID, client_secret=SPOTIPY_CLIENT_SECRET, redirect_uri=SPOTIPY_REDIRECT_URI, show_dialog=True)\n",
    "if token:\n",
    "    sp = spotipy.Spotify(auth=token)\n",
    "    results = sp.current_user_saved_tracks(limit=1)\n",
    "    for item in results['items']:\n",
    "        track = item['track']\n",
    "        print(track['name'] + ' - ' + track['artists'][0]['name'])\n",
    "        print(track['id'])        \n",
    "else:\n",
    "    print(\"Can't get token for\", username)\n",
    "    \n",
    "    "
   ]
  },
  {
   "cell_type": "code",
   "execution_count": 9,
   "metadata": {},
   "outputs": [
    {
     "name": "stdout",
     "output_type": "stream",
     "text": [
      "https://api.spotify.com/v1/me/tracks?offset=50&limit=50\n",
      "https://api.spotify.com/v1/me/tracks?offset=50&limit=50\n",
      "754\n"
     ]
    }
   ],
   "source": [
    "def get_all_liked_songs():\n",
    "    limit = 50\n",
    "    offset = 0\n",
    "    all_songs = []\n",
    "    res = sp.current_user_saved_tracks(limit=limit, offset=offset)\n",
    "    print(res['next'])\n",
    "    if res:\n",
    "        print(res['next'])\n",
    "        all_songs.extend(res['items'])\n",
    "        while res['next']:\n",
    "            offset += limit\n",
    "            res = sp.current_user_saved_tracks(limit=limit, offset=offset)\n",
    "            all_songs.extend(res['items'])\n",
    "    return all_songs    \n",
    "all_songs = get_all_liked_songs()\n",
    "print(len(all_songs))\n"
   ]
  },
  {
   "cell_type": "code",
   "execution_count": 14,
   "metadata": {},
   "outputs": [
    {
     "name": "stdout",
     "output_type": "stream",
     "text": [
      "754\n",
      "2RwxKOqGh9IEiBpwVLgkQT\n",
      "{'danceability': 0.406, 'energy': 0.623, 'key': 2, 'loudness': -6.992, 'mode': 0, 'speechiness': 0.0516, 'acousticness': 0.00199, 'instrumentalness': 0.000346, 'liveness': 0.432, 'valence': 0.163, 'tempo': 150.389, 'type': 'audio_features', 'id': '2RwxKOqGh9IEiBpwVLgkQT', 'uri': 'spotify:track:2RwxKOqGh9IEiBpwVLgkQT', 'track_href': 'https://api.spotify.com/v1/tracks/2RwxKOqGh9IEiBpwVLgkQT', 'analysis_url': 'https://api.spotify.com/v1/audio-analysis/2RwxKOqGh9IEiBpwVLgkQT', 'duration_ms': 155187, 'time_signature': 4, 'title': 'Give Up On You', 'artist': 'hayve'}\n",
      "22PQ3q11bQCUoFdiHnXbRf\n",
      "{'danceability': 0.413, 'energy': 0.731, 'key': 2, 'loudness': -4.912, 'mode': 0, 'speechiness': 0.0526, 'acousticness': 0.0872, 'instrumentalness': 0.000226, 'liveness': 0.0941, 'valence': 0.134, 'tempo': 139.785, 'type': 'audio_features', 'id': '22PQ3q11bQCUoFdiHnXbRf', 'uri': 'spotify:track:22PQ3q11bQCUoFdiHnXbRf', 'track_href': 'https://api.spotify.com/v1/tracks/22PQ3q11bQCUoFdiHnXbRf', 'analysis_url': 'https://api.spotify.com/v1/audio-analysis/22PQ3q11bQCUoFdiHnXbRf', 'duration_ms': 292286, 'time_signature': 4, 'title': 'Blood and Moonlight', 'artist': 'Celestial Void'}\n",
      "6EjawNS588Rrm39sybcjy2\n",
      "{'danceability': 0.462, 'energy': 0.613, 'key': 4, 'loudness': -6.335, 'mode': 1, 'speechiness': 0.0315, 'acousticness': 0.0778, 'instrumentalness': 0.00103, 'liveness': 0.101, 'valence': 0.227, 'tempo': 139.946, 'type': 'audio_features', 'id': '6EjawNS588Rrm39sybcjy2', 'uri': 'spotify:track:6EjawNS588Rrm39sybcjy2', 'track_href': 'https://api.spotify.com/v1/tracks/6EjawNS588Rrm39sybcjy2', 'analysis_url': 'https://api.spotify.com/v1/audio-analysis/6EjawNS588Rrm39sybcjy2', 'duration_ms': 195429, 'time_signature': 4, 'title': 'Red Thread', 'artist': 'shXdow.'}\n",
      "02shCNmb6IvgB5jLqKjtkK\n",
      "{'danceability': 0.605, 'energy': 0.783, 'key': 3, 'loudness': -4.271, 'mode': 1, 'speechiness': 0.0324, 'acousticness': 0.299, 'instrumentalness': 0.000175, 'liveness': 0.133, 'valence': 0.105, 'tempo': 124.015, 'type': 'audio_features', 'id': '02shCNmb6IvgB5jLqKjtkK', 'uri': 'spotify:track:02shCNmb6IvgB5jLqKjtkK', 'track_href': 'https://api.spotify.com/v1/tracks/02shCNmb6IvgB5jLqKjtkK', 'analysis_url': 'https://api.spotify.com/v1/audio-analysis/02shCNmb6IvgB5jLqKjtkK', 'duration_ms': 208562, 'time_signature': 4, 'title': 'Nevada', 'artist': 'Vicetone'}\n",
      "1YXUD5D1ZRSaKZRZME4UB5\n",
      "{'danceability': 0.498, 'energy': 0.494, 'key': 0, 'loudness': -12.42, 'mode': 1, 'speechiness': 0.0343, 'acousticness': 0.0118, 'instrumentalness': 0.00108, 'liveness': 0.166, 'valence': 0.12, 'tempo': 134.983, 'type': 'audio_features', 'id': '1YXUD5D1ZRSaKZRZME4UB5', 'uri': 'spotify:track:1YXUD5D1ZRSaKZRZME4UB5', 'track_href': 'https://api.spotify.com/v1/tracks/1YXUD5D1ZRSaKZRZME4UB5', 'analysis_url': 'https://api.spotify.com/v1/audio-analysis/1YXUD5D1ZRSaKZRZME4UB5', 'duration_ms': 209938, 'time_signature': 4, 'title': \"You'll Be OK\", 'artist': 'Gareth Emery'}\n",
      "1YUn8WogP40RYJNSidN0lJ\n",
      "{'danceability': 0.594, 'energy': 0.727, 'key': 7, 'loudness': -4.507, 'mode': 1, 'speechiness': 0.0536, 'acousticness': 0.311, 'instrumentalness': 0, 'liveness': 0.0662, 'valence': 0.277, 'tempo': 127.91, 'type': 'audio_features', 'id': '1YUn8WogP40RYJNSidN0lJ', 'uri': 'spotify:track:1YUn8WogP40RYJNSidN0lJ', 'track_href': 'https://api.spotify.com/v1/tracks/1YUn8WogP40RYJNSidN0lJ', 'analysis_url': 'https://api.spotify.com/v1/audio-analysis/1YUn8WogP40RYJNSidN0lJ', 'duration_ms': 210668, 'time_signature': 4, 'title': 'Bittersweet Melody', 'artist': 'Said The Sky'}\n",
      "65krG6c3veTz66mIdSU16f\n",
      "{'danceability': 0.507, 'energy': 0.785, 'key': 2, 'loudness': -3.276, 'mode': 0, 'speechiness': 0.0562, 'acousticness': 0.00843, 'instrumentalness': 0, 'liveness': 0.0734, 'valence': 0.0505, 'tempo': 90.241, 'type': 'audio_features', 'id': '65krG6c3veTz66mIdSU16f', 'uri': 'spotify:track:65krG6c3veTz66mIdSU16f', 'track_href': 'https://api.spotify.com/v1/tracks/65krG6c3veTz66mIdSU16f', 'analysis_url': 'https://api.spotify.com/v1/audio-analysis/65krG6c3veTz66mIdSU16f', 'duration_ms': 245333, 'time_signature': 4, 'title': \"Don't Look Down (Hold On)\", 'artist': 'Excision'}\n",
      "0ueILWV4Pvzx5hJCMCn975\n",
      "{'danceability': 0.618, 'energy': 0.664, 'key': 3, 'loudness': -7.833, 'mode': 1, 'speechiness': 0.039, 'acousticness': 0.744, 'instrumentalness': 0.919, 'liveness': 0.15, 'valence': 0.0706, 'tempo': 171.999, 'type': 'audio_features', 'id': '0ueILWV4Pvzx5hJCMCn975', 'uri': 'spotify:track:0ueILWV4Pvzx5hJCMCn975', 'track_href': 'https://api.spotify.com/v1/tracks/0ueILWV4Pvzx5hJCMCn975', 'analysis_url': 'https://api.spotify.com/v1/audio-analysis/0ueILWV4Pvzx5hJCMCn975', 'duration_ms': 147972, 'time_signature': 4, 'title': 'Nevada - Vicetone Lofi Mix', 'artist': 'Vicetone'}\n",
      "2eCjFwE5fwXttf6knCgX91\n",
      "{'danceability': 0.608, 'energy': 0.871, 'key': 7, 'loudness': -4.639, 'mode': 1, 'speechiness': 0.0512, 'acousticness': 0.0675, 'instrumentalness': 0, 'liveness': 0.11, 'valence': 0.611, 'tempo': 128.036, 'type': 'audio_features', 'id': '2eCjFwE5fwXttf6knCgX91', 'uri': 'spotify:track:2eCjFwE5fwXttf6knCgX91', 'track_href': 'https://api.spotify.com/v1/tracks/2eCjFwE5fwXttf6knCgX91', 'analysis_url': 'https://api.spotify.com/v1/audio-analysis/2eCjFwE5fwXttf6knCgX91', 'duration_ms': 193125, 'time_signature': 4, 'title': 'Runaway - Radio Edit', 'artist': 'Pierce Fulton'}\n",
      "491VBkOr5bUECg4fwj7PC6\n",
      "{'danceability': 0.452, 'energy': 0.839, 'key': 1, 'loudness': -3.605, 'mode': 1, 'speechiness': 0.0468, 'acousticness': 0.0419, 'instrumentalness': 0.325, 'liveness': 0.109, 'valence': 0.176, 'tempo': 169.98, 'type': 'audio_features', 'id': '491VBkOr5bUECg4fwj7PC6', 'uri': 'spotify:track:491VBkOr5bUECg4fwj7PC6', 'track_href': 'https://api.spotify.com/v1/tracks/491VBkOr5bUECg4fwj7PC6', 'analysis_url': 'https://api.spotify.com/v1/audio-analysis/491VBkOr5bUECg4fwj7PC6', 'duration_ms': 269647, 'time_signature': 4, 'title': \"We Won't Leave You - Wild Cards Remix\", 'artist': 'Steve Void'}\n",
      "4pvQuMznanQIoAVshVwxLc\n",
      "{'danceability': 0.583, 'energy': 0.662, 'key': 9, 'loudness': -7.689, 'mode': 1, 'speechiness': 0.0436, 'acousticness': 0.026, 'instrumentalness': 0.00303, 'liveness': 0.14, 'valence': 0.242, 'tempo': 121.909, 'type': 'audio_features', 'id': '4pvQuMznanQIoAVshVwxLc', 'uri': 'spotify:track:4pvQuMznanQIoAVshVwxLc', 'track_href': 'https://api.spotify.com/v1/tracks/4pvQuMznanQIoAVshVwxLc', 'analysis_url': 'https://api.spotify.com/v1/audio-analysis/4pvQuMznanQIoAVshVwxLc', 'duration_ms': 145143, 'time_signature': 4, 'title': 'Stereo Love', 'artist': 'UMAII'}\n",
      "2ArZ1ddGz0Lc8bwPKwiSTo\n",
      "{'danceability': 0.699, 'energy': 0.794, 'key': 5, 'loudness': -5.039, 'mode': 0, 'speechiness': 0.0377, 'acousticness': 0.0547, 'instrumentalness': 0.00154, 'liveness': 0.392, 'valence': 0.442, 'tempo': 124.117, 'type': 'audio_features', 'id': '2ArZ1ddGz0Lc8bwPKwiSTo', 'uri': 'spotify:track:2ArZ1ddGz0Lc8bwPKwiSTo', 'track_href': 'https://api.spotify.com/v1/tracks/2ArZ1ddGz0Lc8bwPKwiSTo', 'analysis_url': 'https://api.spotify.com/v1/audio-analysis/2ArZ1ddGz0Lc8bwPKwiSTo', 'duration_ms': 156774, 'time_signature': 4, 'title': 'Whiplash', 'artist': \"D'Amico & Valax\"}\n",
      "2L3lYfrnZdm13IgvwR6HTW\n",
      "{'danceability': 0.472, 'energy': 0.785, 'key': 10, 'loudness': -3.872, 'mode': 1, 'speechiness': 0.0357, 'acousticness': 0.101, 'instrumentalness': 1.46e-06, 'liveness': 0.117, 'valence': 0.517, 'tempo': 167.937, 'type': 'audio_features', 'id': '2L3lYfrnZdm13IgvwR6HTW', 'uri': 'spotify:track:2L3lYfrnZdm13IgvwR6HTW', 'track_href': 'https://api.spotify.com/v1/tracks/2L3lYfrnZdm13IgvwR6HTW', 'analysis_url': 'https://api.spotify.com/v1/audio-analysis/2L3lYfrnZdm13IgvwR6HTW', 'duration_ms': 190000, 'time_signature': 4, 'title': 'Children of the Sky', 'artist': 'nanobii'}\n",
      "4oSJ1kLpOJvgB0FDilIdfO\n",
      "{'danceability': 0.464, 'energy': 0.886, 'key': 0, 'loudness': -3.711, 'mode': 1, 'speechiness': 0.0496, 'acousticness': 0.177, 'instrumentalness': 2.49e-05, 'liveness': 0.147, 'valence': 0.323, 'tempo': 175.065, 'type': 'audio_features', 'id': '4oSJ1kLpOJvgB0FDilIdfO', 'uri': 'spotify:track:4oSJ1kLpOJvgB0FDilIdfO', 'track_href': 'https://api.spotify.com/v1/tracks/4oSJ1kLpOJvgB0FDilIdfO', 'analysis_url': 'https://api.spotify.com/v1/audio-analysis/4oSJ1kLpOJvgB0FDilIdfO', 'duration_ms': 209859, 'time_signature': 4, 'title': 'Lockdown', 'artist': 'PIKASONIC'}\n",
      "6T7ORp4dBOA93elX1NIYOm\n",
      "{'danceability': 0.529, 'energy': 0.844, 'key': 9, 'loudness': -3.422, 'mode': 1, 'speechiness': 0.0662, 'acousticness': 0.0145, 'instrumentalness': 1.73e-05, 'liveness': 0.0955, 'valence': 0.192, 'tempo': 140.133, 'type': 'audio_features', 'id': '6T7ORp4dBOA93elX1NIYOm', 'uri': 'spotify:track:6T7ORp4dBOA93elX1NIYOm', 'track_href': 'https://api.spotify.com/v1/tracks/6T7ORp4dBOA93elX1NIYOm', 'analysis_url': 'https://api.spotify.com/v1/audio-analysis/6T7ORp4dBOA93elX1NIYOm', 'duration_ms': 318429, 'time_signature': 4, 'title': 'Subliminal (Even the Ghosts are Laughing)', 'artist': 'HVDES'}\n",
      "4hMG5tGjzCGgobKLhDQZCx\n",
      "{'danceability': 0.535, 'energy': 0.747, 'key': 6, 'loudness': -4.529, 'mode': 1, 'speechiness': 0.034, 'acousticness': 0.0251, 'instrumentalness': 0.00125, 'liveness': 0.113, 'valence': 0.408, 'tempo': 150.163, 'type': 'audio_features', 'id': '4hMG5tGjzCGgobKLhDQZCx', 'uri': 'spotify:track:4hMG5tGjzCGgobKLhDQZCx', 'track_href': 'https://api.spotify.com/v1/tracks/4hMG5tGjzCGgobKLhDQZCx', 'analysis_url': 'https://api.spotify.com/v1/audio-analysis/4hMG5tGjzCGgobKLhDQZCx', 'duration_ms': 210529, 'time_signature': 4, 'title': 'Homestead', 'artist': 'Avi8'}\n",
      "5LLhdR6qdQvAfSm2C0EYj4\n",
      "{'danceability': 0.259, 'energy': 0.923, 'key': 1, 'loudness': -5.53, 'mode': 1, 'speechiness': 0.0908, 'acousticness': 2.5e-06, 'instrumentalness': 0.103, 'liveness': 0.155, 'valence': 0.593, 'tempo': 199.806, 'type': 'audio_features', 'id': '5LLhdR6qdQvAfSm2C0EYj4', 'uri': 'spotify:track:5LLhdR6qdQvAfSm2C0EYj4', 'track_href': 'https://api.spotify.com/v1/tracks/5LLhdR6qdQvAfSm2C0EYj4', 'analysis_url': 'https://api.spotify.com/v1/audio-analysis/5LLhdR6qdQvAfSm2C0EYj4', 'duration_ms': 130187, 'time_signature': 4, 'title': 'The Stains of Time - Maniac Agenda Mix', 'artist': 'Kit Walters'}\n",
      "5IF16c5m61ofhwU0uAqCOF\n",
      "{'danceability': 0.55, 'energy': 0.764, 'key': 2, 'loudness': -5.277, 'mode': 0, 'speechiness': 0.0463, 'acousticness': 0.00446, 'instrumentalness': 0, 'liveness': 0.171, 'valence': 0.436, 'tempo': 139.976, 'type': 'audio_features', 'id': '5IF16c5m61ofhwU0uAqCOF', 'uri': 'spotify:track:5IF16c5m61ofhwU0uAqCOF', 'track_href': 'https://api.spotify.com/v1/tracks/5IF16c5m61ofhwU0uAqCOF', 'analysis_url': 'https://api.spotify.com/v1/audio-analysis/5IF16c5m61ofhwU0uAqCOF', 'duration_ms': 220732, 'time_signature': 4, 'title': 'Gltchlfe (Kdrew Radio Edit)', 'artist': 'Taryn Manning'}\n",
      "6ITfKtFUsDi9X7krgWP2Fa\n",
      "{'danceability': 0.514, 'energy': 0.837, 'key': 11, 'loudness': -4.479, 'mode': 1, 'speechiness': 0.0326, 'acousticness': 0.000265, 'instrumentalness': 1.13e-06, 'liveness': 0.0824, 'valence': 0.34, 'tempo': 135.926, 'type': 'audio_features', 'id': '6ITfKtFUsDi9X7krgWP2Fa', 'uri': 'spotify:track:6ITfKtFUsDi9X7krgWP2Fa', 'track_href': 'https://api.spotify.com/v1/tracks/6ITfKtFUsDi9X7krgWP2Fa', 'analysis_url': 'https://api.spotify.com/v1/audio-analysis/6ITfKtFUsDi9X7krgWP2Fa', 'duration_ms': 228093, 'time_signature': 4, 'title': 'Lullaby', 'artist': 'Nickelback'}\n",
      "1n1co3IQaEBLbouzf3BesL\n",
      "{'danceability': 0.656, 'energy': 0.769, 'key': 5, 'loudness': -5.583, 'mode': 1, 'speechiness': 0.0345, 'acousticness': 0.062, 'instrumentalness': 0, 'liveness': 0.12, 'valence': 0.226, 'tempo': 111.01, 'type': 'audio_features', 'id': '1n1co3IQaEBLbouzf3BesL', 'uri': 'spotify:track:1n1co3IQaEBLbouzf3BesL', 'track_href': 'https://api.spotify.com/v1/tracks/1n1co3IQaEBLbouzf3BesL', 'analysis_url': 'https://api.spotify.com/v1/audio-analysis/1n1co3IQaEBLbouzf3BesL', 'duration_ms': 189189, 'time_signature': 4, 'title': 'Without You (feat. Linney)', 'artist': 'Kastra'}\n",
      "20\n"
     ]
    }
   ],
   "source": [
    "# get first song's id\n",
    "song_id = all_songs[0]['track']['id']\n",
    "# get audio features\n",
    "features = sp.audio_features(song_id)\n",
    "analysis = sp.audio_analysis(song_id)\n",
    "# print(analysis)\n",
    "def get_features_for_songs(songs):\n",
    "    all_features = []\n",
    "    for song in songs:\n",
    "        song_id = song['track']['id']\n",
    "        # print(song_id)\n",
    "        features = sp.audio_features(song_id)[0]\n",
    "        # add id, song title and artist to features\n",
    "        features['id'] = song_id\n",
    "        features['title'] = song['track']['name']\n",
    "        features['artist'] = song['track']['artists'][0]['name']\n",
    "        all_features.append(features)\n",
    "        # print(features)\n",
    "        # print(all_features)\n",
    "    return all_features\n",
    "\n",
    "print(len(all_songs))\n",
    "some_songs = all_songs[:20]\n",
    "some_song_features = get_features_for_songs(some_songs)\n",
    "print(len(some_song_features))"
   ]
  },
  {
   "cell_type": "code",
   "execution_count": 18,
   "metadata": {},
   "outputs": [
    {
     "name": "stdout",
     "output_type": "stream",
     "text": [
      "[{'danceability': 0.406, 'energy': 0.623, 'key': 2, 'loudness': -6.992, 'mode': 0, 'speechiness': 0.0516, 'acousticness': 0.00199, 'instrumentalness': 0.000346, 'liveness': 0.432, 'valence': 0.163, 'tempo': 150.389, 'type': 'audio_features', 'id': '2RwxKOqGh9IEiBpwVLgkQT', 'uri': 'spotify:track:2RwxKOqGh9IEiBpwVLgkQT', 'track_href': 'https://api.spotify.com/v1/tracks/2RwxKOqGh9IEiBpwVLgkQT', 'analysis_url': 'https://api.spotify.com/v1/audio-analysis/2RwxKOqGh9IEiBpwVLgkQT', 'duration_ms': 155187, 'time_signature': 4, 'title': 'Give Up On You', 'artist': 'hayve'}, {'danceability': 0.413, 'energy': 0.731, 'key': 2, 'loudness': -4.912, 'mode': 0, 'speechiness': 0.0526, 'acousticness': 0.0872, 'instrumentalness': 0.000226, 'liveness': 0.0941, 'valence': 0.134, 'tempo': 139.785, 'type': 'audio_features', 'id': '22PQ3q11bQCUoFdiHnXbRf', 'uri': 'spotify:track:22PQ3q11bQCUoFdiHnXbRf', 'track_href': 'https://api.spotify.com/v1/tracks/22PQ3q11bQCUoFdiHnXbRf', 'analysis_url': 'https://api.spotify.com/v1/audio-analysis/22PQ3q11bQCUoFdiHnXbRf', 'duration_ms': 292286, 'time_signature': 4, 'title': 'Blood and Moonlight', 'artist': 'Celestial Void'}, {'danceability': 0.462, 'energy': 0.613, 'key': 4, 'loudness': -6.335, 'mode': 1, 'speechiness': 0.0315, 'acousticness': 0.0778, 'instrumentalness': 0.00103, 'liveness': 0.101, 'valence': 0.227, 'tempo': 139.946, 'type': 'audio_features', 'id': '6EjawNS588Rrm39sybcjy2', 'uri': 'spotify:track:6EjawNS588Rrm39sybcjy2', 'track_href': 'https://api.spotify.com/v1/tracks/6EjawNS588Rrm39sybcjy2', 'analysis_url': 'https://api.spotify.com/v1/audio-analysis/6EjawNS588Rrm39sybcjy2', 'duration_ms': 195429, 'time_signature': 4, 'title': 'Red Thread', 'artist': 'shXdow.'}, {'danceability': 0.605, 'energy': 0.783, 'key': 3, 'loudness': -4.271, 'mode': 1, 'speechiness': 0.0324, 'acousticness': 0.299, 'instrumentalness': 0.000175, 'liveness': 0.133, 'valence': 0.105, 'tempo': 124.015, 'type': 'audio_features', 'id': '02shCNmb6IvgB5jLqKjtkK', 'uri': 'spotify:track:02shCNmb6IvgB5jLqKjtkK', 'track_href': 'https://api.spotify.com/v1/tracks/02shCNmb6IvgB5jLqKjtkK', 'analysis_url': 'https://api.spotify.com/v1/audio-analysis/02shCNmb6IvgB5jLqKjtkK', 'duration_ms': 208562, 'time_signature': 4, 'title': 'Nevada', 'artist': 'Vicetone'}, {'danceability': 0.498, 'energy': 0.494, 'key': 0, 'loudness': -12.42, 'mode': 1, 'speechiness': 0.0343, 'acousticness': 0.0118, 'instrumentalness': 0.00108, 'liveness': 0.166, 'valence': 0.12, 'tempo': 134.983, 'type': 'audio_features', 'id': '1YXUD5D1ZRSaKZRZME4UB5', 'uri': 'spotify:track:1YXUD5D1ZRSaKZRZME4UB5', 'track_href': 'https://api.spotify.com/v1/tracks/1YXUD5D1ZRSaKZRZME4UB5', 'analysis_url': 'https://api.spotify.com/v1/audio-analysis/1YXUD5D1ZRSaKZRZME4UB5', 'duration_ms': 209938, 'time_signature': 4, 'title': \"You'll Be OK\", 'artist': 'Gareth Emery'}, {'danceability': 0.594, 'energy': 0.727, 'key': 7, 'loudness': -4.507, 'mode': 1, 'speechiness': 0.0536, 'acousticness': 0.311, 'instrumentalness': 0, 'liveness': 0.0662, 'valence': 0.277, 'tempo': 127.91, 'type': 'audio_features', 'id': '1YUn8WogP40RYJNSidN0lJ', 'uri': 'spotify:track:1YUn8WogP40RYJNSidN0lJ', 'track_href': 'https://api.spotify.com/v1/tracks/1YUn8WogP40RYJNSidN0lJ', 'analysis_url': 'https://api.spotify.com/v1/audio-analysis/1YUn8WogP40RYJNSidN0lJ', 'duration_ms': 210668, 'time_signature': 4, 'title': 'Bittersweet Melody', 'artist': 'Said The Sky'}, {'danceability': 0.507, 'energy': 0.785, 'key': 2, 'loudness': -3.276, 'mode': 0, 'speechiness': 0.0562, 'acousticness': 0.00843, 'instrumentalness': 0, 'liveness': 0.0734, 'valence': 0.0505, 'tempo': 90.241, 'type': 'audio_features', 'id': '65krG6c3veTz66mIdSU16f', 'uri': 'spotify:track:65krG6c3veTz66mIdSU16f', 'track_href': 'https://api.spotify.com/v1/tracks/65krG6c3veTz66mIdSU16f', 'analysis_url': 'https://api.spotify.com/v1/audio-analysis/65krG6c3veTz66mIdSU16f', 'duration_ms': 245333, 'time_signature': 4, 'title': \"Don't Look Down (Hold On)\", 'artist': 'Excision'}, {'danceability': 0.618, 'energy': 0.664, 'key': 3, 'loudness': -7.833, 'mode': 1, 'speechiness': 0.039, 'acousticness': 0.744, 'instrumentalness': 0.919, 'liveness': 0.15, 'valence': 0.0706, 'tempo': 171.999, 'type': 'audio_features', 'id': '0ueILWV4Pvzx5hJCMCn975', 'uri': 'spotify:track:0ueILWV4Pvzx5hJCMCn975', 'track_href': 'https://api.spotify.com/v1/tracks/0ueILWV4Pvzx5hJCMCn975', 'analysis_url': 'https://api.spotify.com/v1/audio-analysis/0ueILWV4Pvzx5hJCMCn975', 'duration_ms': 147972, 'time_signature': 4, 'title': 'Nevada - Vicetone Lofi Mix', 'artist': 'Vicetone'}, {'danceability': 0.608, 'energy': 0.871, 'key': 7, 'loudness': -4.639, 'mode': 1, 'speechiness': 0.0512, 'acousticness': 0.0675, 'instrumentalness': 0, 'liveness': 0.11, 'valence': 0.611, 'tempo': 128.036, 'type': 'audio_features', 'id': '2eCjFwE5fwXttf6knCgX91', 'uri': 'spotify:track:2eCjFwE5fwXttf6knCgX91', 'track_href': 'https://api.spotify.com/v1/tracks/2eCjFwE5fwXttf6knCgX91', 'analysis_url': 'https://api.spotify.com/v1/audio-analysis/2eCjFwE5fwXttf6knCgX91', 'duration_ms': 193125, 'time_signature': 4, 'title': 'Runaway - Radio Edit', 'artist': 'Pierce Fulton'}, {'danceability': 0.452, 'energy': 0.839, 'key': 1, 'loudness': -3.605, 'mode': 1, 'speechiness': 0.0468, 'acousticness': 0.0419, 'instrumentalness': 0.325, 'liveness': 0.109, 'valence': 0.176, 'tempo': 169.98, 'type': 'audio_features', 'id': '491VBkOr5bUECg4fwj7PC6', 'uri': 'spotify:track:491VBkOr5bUECg4fwj7PC6', 'track_href': 'https://api.spotify.com/v1/tracks/491VBkOr5bUECg4fwj7PC6', 'analysis_url': 'https://api.spotify.com/v1/audio-analysis/491VBkOr5bUECg4fwj7PC6', 'duration_ms': 269647, 'time_signature': 4, 'title': \"We Won't Leave You - Wild Cards Remix\", 'artist': 'Steve Void'}, {'danceability': 0.583, 'energy': 0.662, 'key': 9, 'loudness': -7.689, 'mode': 1, 'speechiness': 0.0436, 'acousticness': 0.026, 'instrumentalness': 0.00303, 'liveness': 0.14, 'valence': 0.242, 'tempo': 121.909, 'type': 'audio_features', 'id': '4pvQuMznanQIoAVshVwxLc', 'uri': 'spotify:track:4pvQuMznanQIoAVshVwxLc', 'track_href': 'https://api.spotify.com/v1/tracks/4pvQuMznanQIoAVshVwxLc', 'analysis_url': 'https://api.spotify.com/v1/audio-analysis/4pvQuMznanQIoAVshVwxLc', 'duration_ms': 145143, 'time_signature': 4, 'title': 'Stereo Love', 'artist': 'UMAII'}, {'danceability': 0.699, 'energy': 0.794, 'key': 5, 'loudness': -5.039, 'mode': 0, 'speechiness': 0.0377, 'acousticness': 0.0547, 'instrumentalness': 0.00154, 'liveness': 0.392, 'valence': 0.442, 'tempo': 124.117, 'type': 'audio_features', 'id': '2ArZ1ddGz0Lc8bwPKwiSTo', 'uri': 'spotify:track:2ArZ1ddGz0Lc8bwPKwiSTo', 'track_href': 'https://api.spotify.com/v1/tracks/2ArZ1ddGz0Lc8bwPKwiSTo', 'analysis_url': 'https://api.spotify.com/v1/audio-analysis/2ArZ1ddGz0Lc8bwPKwiSTo', 'duration_ms': 156774, 'time_signature': 4, 'title': 'Whiplash', 'artist': \"D'Amico & Valax\"}, {'danceability': 0.472, 'energy': 0.785, 'key': 10, 'loudness': -3.872, 'mode': 1, 'speechiness': 0.0357, 'acousticness': 0.101, 'instrumentalness': 1.46e-06, 'liveness': 0.117, 'valence': 0.517, 'tempo': 167.937, 'type': 'audio_features', 'id': '2L3lYfrnZdm13IgvwR6HTW', 'uri': 'spotify:track:2L3lYfrnZdm13IgvwR6HTW', 'track_href': 'https://api.spotify.com/v1/tracks/2L3lYfrnZdm13IgvwR6HTW', 'analysis_url': 'https://api.spotify.com/v1/audio-analysis/2L3lYfrnZdm13IgvwR6HTW', 'duration_ms': 190000, 'time_signature': 4, 'title': 'Children of the Sky', 'artist': 'nanobii'}, {'danceability': 0.464, 'energy': 0.886, 'key': 0, 'loudness': -3.711, 'mode': 1, 'speechiness': 0.0496, 'acousticness': 0.177, 'instrumentalness': 2.49e-05, 'liveness': 0.147, 'valence': 0.323, 'tempo': 175.065, 'type': 'audio_features', 'id': '4oSJ1kLpOJvgB0FDilIdfO', 'uri': 'spotify:track:4oSJ1kLpOJvgB0FDilIdfO', 'track_href': 'https://api.spotify.com/v1/tracks/4oSJ1kLpOJvgB0FDilIdfO', 'analysis_url': 'https://api.spotify.com/v1/audio-analysis/4oSJ1kLpOJvgB0FDilIdfO', 'duration_ms': 209859, 'time_signature': 4, 'title': 'Lockdown', 'artist': 'PIKASONIC'}, {'danceability': 0.529, 'energy': 0.844, 'key': 9, 'loudness': -3.422, 'mode': 1, 'speechiness': 0.0662, 'acousticness': 0.0145, 'instrumentalness': 1.73e-05, 'liveness': 0.0955, 'valence': 0.192, 'tempo': 140.133, 'type': 'audio_features', 'id': '6T7ORp4dBOA93elX1NIYOm', 'uri': 'spotify:track:6T7ORp4dBOA93elX1NIYOm', 'track_href': 'https://api.spotify.com/v1/tracks/6T7ORp4dBOA93elX1NIYOm', 'analysis_url': 'https://api.spotify.com/v1/audio-analysis/6T7ORp4dBOA93elX1NIYOm', 'duration_ms': 318429, 'time_signature': 4, 'title': 'Subliminal (Even the Ghosts are Laughing)', 'artist': 'HVDES'}, {'danceability': 0.535, 'energy': 0.747, 'key': 6, 'loudness': -4.529, 'mode': 1, 'speechiness': 0.034, 'acousticness': 0.0251, 'instrumentalness': 0.00125, 'liveness': 0.113, 'valence': 0.408, 'tempo': 150.163, 'type': 'audio_features', 'id': '4hMG5tGjzCGgobKLhDQZCx', 'uri': 'spotify:track:4hMG5tGjzCGgobKLhDQZCx', 'track_href': 'https://api.spotify.com/v1/tracks/4hMG5tGjzCGgobKLhDQZCx', 'analysis_url': 'https://api.spotify.com/v1/audio-analysis/4hMG5tGjzCGgobKLhDQZCx', 'duration_ms': 210529, 'time_signature': 4, 'title': 'Homestead', 'artist': 'Avi8'}, {'danceability': 0.259, 'energy': 0.923, 'key': 1, 'loudness': -5.53, 'mode': 1, 'speechiness': 0.0908, 'acousticness': 2.5e-06, 'instrumentalness': 0.103, 'liveness': 0.155, 'valence': 0.593, 'tempo': 199.806, 'type': 'audio_features', 'id': '5LLhdR6qdQvAfSm2C0EYj4', 'uri': 'spotify:track:5LLhdR6qdQvAfSm2C0EYj4', 'track_href': 'https://api.spotify.com/v1/tracks/5LLhdR6qdQvAfSm2C0EYj4', 'analysis_url': 'https://api.spotify.com/v1/audio-analysis/5LLhdR6qdQvAfSm2C0EYj4', 'duration_ms': 130187, 'time_signature': 4, 'title': 'The Stains of Time - Maniac Agenda Mix', 'artist': 'Kit Walters'}, {'danceability': 0.55, 'energy': 0.764, 'key': 2, 'loudness': -5.277, 'mode': 0, 'speechiness': 0.0463, 'acousticness': 0.00446, 'instrumentalness': 0, 'liveness': 0.171, 'valence': 0.436, 'tempo': 139.976, 'type': 'audio_features', 'id': '5IF16c5m61ofhwU0uAqCOF', 'uri': 'spotify:track:5IF16c5m61ofhwU0uAqCOF', 'track_href': 'https://api.spotify.com/v1/tracks/5IF16c5m61ofhwU0uAqCOF', 'analysis_url': 'https://api.spotify.com/v1/audio-analysis/5IF16c5m61ofhwU0uAqCOF', 'duration_ms': 220732, 'time_signature': 4, 'title': 'Gltchlfe (Kdrew Radio Edit)', 'artist': 'Taryn Manning'}, {'danceability': 0.514, 'energy': 0.837, 'key': 11, 'loudness': -4.479, 'mode': 1, 'speechiness': 0.0326, 'acousticness': 0.000265, 'instrumentalness': 1.13e-06, 'liveness': 0.0824, 'valence': 0.34, 'tempo': 135.926, 'type': 'audio_features', 'id': '6ITfKtFUsDi9X7krgWP2Fa', 'uri': 'spotify:track:6ITfKtFUsDi9X7krgWP2Fa', 'track_href': 'https://api.spotify.com/v1/tracks/6ITfKtFUsDi9X7krgWP2Fa', 'analysis_url': 'https://api.spotify.com/v1/audio-analysis/6ITfKtFUsDi9X7krgWP2Fa', 'duration_ms': 228093, 'time_signature': 4, 'title': 'Lullaby', 'artist': 'Nickelback'}, {'danceability': 0.656, 'energy': 0.769, 'key': 5, 'loudness': -5.583, 'mode': 1, 'speechiness': 0.0345, 'acousticness': 0.062, 'instrumentalness': 0, 'liveness': 0.12, 'valence': 0.226, 'tempo': 111.01, 'type': 'audio_features', 'id': '1n1co3IQaEBLbouzf3BesL', 'uri': 'spotify:track:1n1co3IQaEBLbouzf3BesL', 'track_href': 'https://api.spotify.com/v1/tracks/1n1co3IQaEBLbouzf3BesL', 'analysis_url': 'https://api.spotify.com/v1/audio-analysis/1n1co3IQaEBLbouzf3BesL', 'duration_ms': 189189, 'time_signature': 4, 'title': 'Without You (feat. Linney)', 'artist': 'Kastra'}]\n",
      "dict_keys(['danceability', 'energy', 'key', 'loudness', 'mode', 'speechiness', 'acousticness', 'instrumentalness', 'liveness', 'valence', 'tempo', 'type', 'id', 'uri', 'track_href', 'analysis_url', 'duration_ms', 'time_signature', 'title', 'artist'])\n"
     ]
    }
   ],
   "source": [
    "import csv\n",
    "some_song_features\n",
    "print(some_song_features)\n",
    "keys = some_song_features[0].keys()\n",
    "print(keys)\n",
    "\n",
    "with open('spotify_song_features.csv', 'w+', newline='') as output_file:\n",
    "    dict_writer = csv.DictWriter(output_file, keys)\n",
    "    dict_writer.writeheader()\n",
    "    dict_writer.writerows(some_song_features)"
   ]
  }
 ],
 "metadata": {
  "kernelspec": {
   "display_name": "Python 3",
   "language": "python",
   "name": "python3"
  },
  "language_info": {
   "codemirror_mode": {
    "name": "ipython",
    "version": 3
   },
   "file_extension": ".py",
   "mimetype": "text/x-python",
   "name": "python",
   "nbconvert_exporter": "python",
   "pygments_lexer": "ipython3",
   "version": "3.9.12"
  }
 },
 "nbformat": 4,
 "nbformat_minor": 2
}
