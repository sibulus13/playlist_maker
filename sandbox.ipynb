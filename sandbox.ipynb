{
 "cells": [
  {
   "cell_type": "code",
   "execution_count": 3,
   "metadata": {},
   "outputs": [
    {
     "name": "stdout",
     "output_type": "stream",
     "text": [
      "https://example.com/callback/\n",
      "Give Up On You - hayve, ID:\n",
      "2RwxKOqGh9IEiBpwVLgkQT\n"
     ]
    }
   ],
   "source": [
    "from dotenv import load_dotenv\n",
    "import os\n",
    "load_dotenv()\n",
    "\n",
    "SPOTIPY_CLIENT_ID = os.getenv(\"SPOTIPY_CLIENT_ID\")\n",
    "SPOTIPY_CLIENT_SECRET = os.environ.get(\"SPOTIPY_CLIENT_SECRET\")\n",
    "SPOTIPY_REDIRECT_URI = os.environ.get(\"SPOTIPY_REDIRECT_URI\")\n",
    "\n",
    "import sys\n",
    "import spotipy\n",
    "import spotipy.util as util\n",
    "\n",
    "scope = 'user-library-read'\n",
    "username = 'hotshot9258'\n",
    "# if len(sys.argv) > 1:\n",
    "#     username = sys.argv[1]\n",
    "# else:\n",
    "#     print(\"Usage: %s username\" % (sys.argv[0],))\n",
    "#     sys.exit()\n",
    "print(SPOTIPY_REDIRECT_URI)\n",
    "token = util.prompt_for_user_token(username, scope, client_id=SPOTIPY_CLIENT_ID, client_secret=SPOTIPY_CLIENT_SECRET, redirect_uri=SPOTIPY_REDIRECT_URI, show_dialog=True)\n",
    "if token:\n",
    "    sp = spotipy.Spotify(auth=token)\n",
    "    results = sp.current_user_saved_tracks(limit=1)\n",
    "    for item in results['items']:\n",
    "        track = item['track']\n",
    "        print(track['name'] + ' - ' + track['artists'][0]['name'])\n",
    "        print(track['id'])        \n",
    "else:\n",
    "    print(\"Can't get token for\", username)\n",
    "    \n",
    "    "
   ]
  },
  {
   "cell_type": "code",
   "execution_count": 6,
   "metadata": {},
   "outputs": [
    {
     "name": "stdout",
     "output_type": "stream",
     "text": [
      "https://api.spotify.com/v1/me/tracks?offset=50&limit=50\n",
      "https://api.spotify.com/v1/me/tracks?offset=50&limit=50\n"
     ]
    }
   ],
   "source": [
    "def get_all_liked_songs():\n",
    "    limit = 50\n",
    "    offset = 0\n",
    "    all_songs = []\n",
    "    res = sp.current_user_saved_tracks(limit=limit, offset=offset)\n",
    "    print(res['next'])\n",
    "    if res:\n",
    "        print(res['next'])\n",
    "        all_songs.extend(res['items'])\n",
    "        while res['next']:\n",
    "            offset += limit\n",
    "            res = sp.current_user_saved_tracks(limit=limit, offset=offset)\n",
    "            all_songs.extend(res['items'])\n",
    "    return all_songs    \n",
    "all_songs = get_all_liked_songs()\n"
   ]
  },
  {
   "cell_type": "code",
   "execution_count": 28,
   "metadata": {},
   "outputs": [
    {
     "name": "stdout",
     "output_type": "stream",
     "text": [
      "{'danceability': 0.406, 'energy': 0.623, 'key': 2, 'loudness': -6.992, 'mode': 0, 'speechiness': 0.0516, 'acousticness': 0.00199, 'instrumentalness': 0.000346, 'liveness': 0.432, 'valence': 0.163, 'tempo': 150.389, 'type': 'audio_features', 'id': '2RwxKOqGh9IEiBpwVLgkQT', 'uri': 'spotify:track:2RwxKOqGh9IEiBpwVLgkQT', 'track_href': 'https://api.spotify.com/v1/tracks/2RwxKOqGh9IEiBpwVLgkQT', 'analysis_url': 'https://api.spotify.com/v1/audio-analysis/2RwxKOqGh9IEiBpwVLgkQT', 'duration_ms': 155187, 'time_signature': 4, 'title': 'Give Up On You', 'artist': 'hayve'}\n",
      "['danceability', 'energy', 'key', 'loudness', 'mode', 'speechiness', 'acousticness', 'instrumentalness', 'liveness', 'valence', 'tempo', 'type', 'id', 'uri', 'track_href', 'analysis_url', 'duration_ms', 'time_signature', 'title', 'artist']\n",
      "{'danceability': 0.413, 'energy': 0.731, 'key': 2, 'loudness': -4.912, 'mode': 0, 'speechiness': 0.0526, 'acousticness': 0.0872, 'instrumentalness': 0.000226, 'liveness': 0.0941, 'valence': 0.134, 'tempo': 139.785, 'type': 'audio_features', 'id': '22PQ3q11bQCUoFdiHnXbRf', 'uri': 'spotify:track:22PQ3q11bQCUoFdiHnXbRf', 'track_href': 'https://api.spotify.com/v1/tracks/22PQ3q11bQCUoFdiHnXbRf', 'analysis_url': 'https://api.spotify.com/v1/audio-analysis/22PQ3q11bQCUoFdiHnXbRf', 'duration_ms': 292286, 'time_signature': 4, 'title': 'Blood and Moonlight', 'artist': 'Celestial Void'}\n",
      "['danceability', 'energy', 'key', 'loudness', 'mode', 'speechiness', 'acousticness', 'instrumentalness', 'liveness', 'valence', 'tempo', 'type', 'id', 'uri', 'track_href', 'analysis_url', 'duration_ms', 'time_signature', 'title', 'artist', 'danceability', 'energy', 'key', 'loudness', 'mode', 'speechiness', 'acousticness', 'instrumentalness', 'liveness', 'valence', 'tempo', 'type', 'id', 'uri', 'track_href', 'analysis_url', 'duration_ms', 'time_signature', 'title', 'artist']\n",
      "40\n"
     ]
    }
   ],
   "source": [
    "# get first song's id\n",
    "song_id = all_songs[0]['track']['id']\n",
    "# get audio features\n",
    "features = sp.audio_features(song_id)\n",
    "analysis = sp.audio_analysis(song_id)\n",
    "# print(analysis)\n",
    "def get_features_for_songs(songs):\n",
    "    all_features = []\n",
    "    for song in songs[:2]:\n",
    "        song_id = song['track']['id']\n",
    "        features = sp.audio_features(song_id)[0]\n",
    "        # add id, song title and artist to features\n",
    "        features['id'] = song_id\n",
    "        features['title'] = song['track']['name']\n",
    "        features['artist'] = song['track']['artists'][0]['name']\n",
    "        all_features.extend(features)\n",
    "        print(features)\n",
    "        print(all_features)\n",
    "    return all_features\n",
    "all_song_features = get_features_for_songs(all_songs)\n",
    "\n",
    "print(len(all_song_features))"
   ]
  },
  {
   "cell_type": "code",
   "execution_count": 25,
   "metadata": {},
   "outputs": [
    {
     "name": "stdout",
     "output_type": "stream",
     "text": [
      "danceability\n"
     ]
    }
   ],
   "source": [
    "import csv\n",
    "# print(all_song_features)\n",
    "keys = all_song_features[0]\n",
    "print(all_song_features[0])\n",
    "# with open('spotify_song_features.csv', 'w+', newline='') as output_file:\n",
    "#     dict_writer = csv.DictWriter(output_file, keys)\n",
    "#     dict_writer.writeheader()\n",
    "#     dict_writer.writerows(all_song_features)"
   ]
  }
 ],
 "metadata": {
  "kernelspec": {
   "display_name": "Python 3",
   "language": "python",
   "name": "python3"
  },
  "language_info": {
   "codemirror_mode": {
    "name": "ipython",
    "version": 3
   },
   "file_extension": ".py",
   "mimetype": "text/x-python",
   "name": "python",
   "nbconvert_exporter": "python",
   "pygments_lexer": "ipython3",
   "version": "3.11.4"
  }
 },
 "nbformat": 4,
 "nbformat_minor": 2
}
